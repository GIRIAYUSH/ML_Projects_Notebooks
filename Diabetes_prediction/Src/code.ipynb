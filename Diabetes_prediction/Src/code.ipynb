{
 "cells": [
  {
   "cell_type": "code",
   "execution_count": 1,
   "metadata": {},
   "outputs": [],
   "source": [
    "import numpy as np \n",
    "import pandas as pd \n",
    "from sklearn.preprocessing import StandardScaler\n",
    "from sklearn.model_selection import train_test_split\n",
    "from sklearn import svm \n",
    "from sklearn.metrics import accuracy_score"
   ]
  },
  {
   "cell_type": "code",
   "execution_count": 2,
   "metadata": {},
   "outputs": [],
   "source": [
    "df=pd.read_csv(\"C:/Users/giria/Desktop/Careers/ML and DL/Diabetes_prediction/Data/diabetes.csv\")"
   ]
  },
  {
   "cell_type": "code",
   "execution_count": 3,
   "metadata": {},
   "outputs": [
    {
     "data": {
      "text/html": [
       "<div>\n",
       "<style scoped>\n",
       "    .dataframe tbody tr th:only-of-type {\n",
       "        vertical-align: middle;\n",
       "    }\n",
       "\n",
       "    .dataframe tbody tr th {\n",
       "        vertical-align: top;\n",
       "    }\n",
       "\n",
       "    .dataframe thead th {\n",
       "        text-align: right;\n",
       "    }\n",
       "</style>\n",
       "<table border=\"1\" class=\"dataframe\">\n",
       "  <thead>\n",
       "    <tr style=\"text-align: right;\">\n",
       "      <th></th>\n",
       "      <th>Pregnancies</th>\n",
       "      <th>Glucose</th>\n",
       "      <th>BloodPressure</th>\n",
       "      <th>SkinThickness</th>\n",
       "      <th>Insulin</th>\n",
       "      <th>BMI</th>\n",
       "      <th>DiabetesPedigreeFunction</th>\n",
       "      <th>Age</th>\n",
       "      <th>Outcome</th>\n",
       "    </tr>\n",
       "  </thead>\n",
       "  <tbody>\n",
       "    <tr>\n",
       "      <th>0</th>\n",
       "      <td>6</td>\n",
       "      <td>148</td>\n",
       "      <td>72</td>\n",
       "      <td>35</td>\n",
       "      <td>0</td>\n",
       "      <td>33.6</td>\n",
       "      <td>0.627</td>\n",
       "      <td>50</td>\n",
       "      <td>1</td>\n",
       "    </tr>\n",
       "    <tr>\n",
       "      <th>1</th>\n",
       "      <td>1</td>\n",
       "      <td>85</td>\n",
       "      <td>66</td>\n",
       "      <td>29</td>\n",
       "      <td>0</td>\n",
       "      <td>26.6</td>\n",
       "      <td>0.351</td>\n",
       "      <td>31</td>\n",
       "      <td>0</td>\n",
       "    </tr>\n",
       "    <tr>\n",
       "      <th>2</th>\n",
       "      <td>8</td>\n",
       "      <td>183</td>\n",
       "      <td>64</td>\n",
       "      <td>0</td>\n",
       "      <td>0</td>\n",
       "      <td>23.3</td>\n",
       "      <td>0.672</td>\n",
       "      <td>32</td>\n",
       "      <td>1</td>\n",
       "    </tr>\n",
       "    <tr>\n",
       "      <th>3</th>\n",
       "      <td>1</td>\n",
       "      <td>89</td>\n",
       "      <td>66</td>\n",
       "      <td>23</td>\n",
       "      <td>94</td>\n",
       "      <td>28.1</td>\n",
       "      <td>0.167</td>\n",
       "      <td>21</td>\n",
       "      <td>0</td>\n",
       "    </tr>\n",
       "    <tr>\n",
       "      <th>4</th>\n",
       "      <td>0</td>\n",
       "      <td>137</td>\n",
       "      <td>40</td>\n",
       "      <td>35</td>\n",
       "      <td>168</td>\n",
       "      <td>43.1</td>\n",
       "      <td>2.288</td>\n",
       "      <td>33</td>\n",
       "      <td>1</td>\n",
       "    </tr>\n",
       "  </tbody>\n",
       "</table>\n",
       "</div>"
      ],
      "text/plain": [
       "   Pregnancies  Glucose  BloodPressure  SkinThickness  Insulin   BMI  \\\n",
       "0            6      148             72             35        0  33.6   \n",
       "1            1       85             66             29        0  26.6   \n",
       "2            8      183             64              0        0  23.3   \n",
       "3            1       89             66             23       94  28.1   \n",
       "4            0      137             40             35      168  43.1   \n",
       "\n",
       "   DiabetesPedigreeFunction  Age  Outcome  \n",
       "0                     0.627   50        1  \n",
       "1                     0.351   31        0  \n",
       "2                     0.672   32        1  \n",
       "3                     0.167   21        0  \n",
       "4                     2.288   33        1  "
      ]
     },
     "execution_count": 3,
     "metadata": {},
     "output_type": "execute_result"
    }
   ],
   "source": [
    "df.head()"
   ]
  },
  {
   "cell_type": "code",
   "execution_count": 6,
   "metadata": {},
   "outputs": [
    {
     "data": {
      "text/plain": [
       "(768, 9)"
      ]
     },
     "execution_count": 6,
     "metadata": {},
     "output_type": "execute_result"
    }
   ],
   "source": [
    "df.shape"
   ]
  },
  {
   "cell_type": "code",
   "execution_count": 8,
   "metadata": {},
   "outputs": [
    {
     "data": {
      "text/html": [
       "<div>\n",
       "<style scoped>\n",
       "    .dataframe tbody tr th:only-of-type {\n",
       "        vertical-align: middle;\n",
       "    }\n",
       "\n",
       "    .dataframe tbody tr th {\n",
       "        vertical-align: top;\n",
       "    }\n",
       "\n",
       "    .dataframe thead th {\n",
       "        text-align: right;\n",
       "    }\n",
       "</style>\n",
       "<table border=\"1\" class=\"dataframe\">\n",
       "  <thead>\n",
       "    <tr style=\"text-align: right;\">\n",
       "      <th></th>\n",
       "      <th>Pregnancies</th>\n",
       "      <th>Glucose</th>\n",
       "      <th>BloodPressure</th>\n",
       "      <th>SkinThickness</th>\n",
       "      <th>Insulin</th>\n",
       "      <th>BMI</th>\n",
       "      <th>DiabetesPedigreeFunction</th>\n",
       "      <th>Age</th>\n",
       "      <th>Outcome</th>\n",
       "    </tr>\n",
       "  </thead>\n",
       "  <tbody>\n",
       "    <tr>\n",
       "      <th>count</th>\n",
       "      <td>768.000000</td>\n",
       "      <td>768.000000</td>\n",
       "      <td>768.000000</td>\n",
       "      <td>768.000000</td>\n",
       "      <td>768.000000</td>\n",
       "      <td>768.000000</td>\n",
       "      <td>768.000000</td>\n",
       "      <td>768.000000</td>\n",
       "      <td>768.000000</td>\n",
       "    </tr>\n",
       "    <tr>\n",
       "      <th>mean</th>\n",
       "      <td>3.845052</td>\n",
       "      <td>120.894531</td>\n",
       "      <td>69.105469</td>\n",
       "      <td>20.536458</td>\n",
       "      <td>79.799479</td>\n",
       "      <td>31.992578</td>\n",
       "      <td>0.471876</td>\n",
       "      <td>33.240885</td>\n",
       "      <td>0.348958</td>\n",
       "    </tr>\n",
       "    <tr>\n",
       "      <th>std</th>\n",
       "      <td>3.369578</td>\n",
       "      <td>31.972618</td>\n",
       "      <td>19.355807</td>\n",
       "      <td>15.952218</td>\n",
       "      <td>115.244002</td>\n",
       "      <td>7.884160</td>\n",
       "      <td>0.331329</td>\n",
       "      <td>11.760232</td>\n",
       "      <td>0.476951</td>\n",
       "    </tr>\n",
       "    <tr>\n",
       "      <th>min</th>\n",
       "      <td>0.000000</td>\n",
       "      <td>0.000000</td>\n",
       "      <td>0.000000</td>\n",
       "      <td>0.000000</td>\n",
       "      <td>0.000000</td>\n",
       "      <td>0.000000</td>\n",
       "      <td>0.078000</td>\n",
       "      <td>21.000000</td>\n",
       "      <td>0.000000</td>\n",
       "    </tr>\n",
       "    <tr>\n",
       "      <th>25%</th>\n",
       "      <td>1.000000</td>\n",
       "      <td>99.000000</td>\n",
       "      <td>62.000000</td>\n",
       "      <td>0.000000</td>\n",
       "      <td>0.000000</td>\n",
       "      <td>27.300000</td>\n",
       "      <td>0.243750</td>\n",
       "      <td>24.000000</td>\n",
       "      <td>0.000000</td>\n",
       "    </tr>\n",
       "    <tr>\n",
       "      <th>50%</th>\n",
       "      <td>3.000000</td>\n",
       "      <td>117.000000</td>\n",
       "      <td>72.000000</td>\n",
       "      <td>23.000000</td>\n",
       "      <td>30.500000</td>\n",
       "      <td>32.000000</td>\n",
       "      <td>0.372500</td>\n",
       "      <td>29.000000</td>\n",
       "      <td>0.000000</td>\n",
       "    </tr>\n",
       "    <tr>\n",
       "      <th>75%</th>\n",
       "      <td>6.000000</td>\n",
       "      <td>140.250000</td>\n",
       "      <td>80.000000</td>\n",
       "      <td>32.000000</td>\n",
       "      <td>127.250000</td>\n",
       "      <td>36.600000</td>\n",
       "      <td>0.626250</td>\n",
       "      <td>41.000000</td>\n",
       "      <td>1.000000</td>\n",
       "    </tr>\n",
       "    <tr>\n",
       "      <th>max</th>\n",
       "      <td>17.000000</td>\n",
       "      <td>199.000000</td>\n",
       "      <td>122.000000</td>\n",
       "      <td>99.000000</td>\n",
       "      <td>846.000000</td>\n",
       "      <td>67.100000</td>\n",
       "      <td>2.420000</td>\n",
       "      <td>81.000000</td>\n",
       "      <td>1.000000</td>\n",
       "    </tr>\n",
       "  </tbody>\n",
       "</table>\n",
       "</div>"
      ],
      "text/plain": [
       "       Pregnancies     Glucose  BloodPressure  SkinThickness     Insulin  \\\n",
       "count   768.000000  768.000000     768.000000     768.000000  768.000000   \n",
       "mean      3.845052  120.894531      69.105469      20.536458   79.799479   \n",
       "std       3.369578   31.972618      19.355807      15.952218  115.244002   \n",
       "min       0.000000    0.000000       0.000000       0.000000    0.000000   \n",
       "25%       1.000000   99.000000      62.000000       0.000000    0.000000   \n",
       "50%       3.000000  117.000000      72.000000      23.000000   30.500000   \n",
       "75%       6.000000  140.250000      80.000000      32.000000  127.250000   \n",
       "max      17.000000  199.000000     122.000000      99.000000  846.000000   \n",
       "\n",
       "              BMI  DiabetesPedigreeFunction         Age     Outcome  \n",
       "count  768.000000                768.000000  768.000000  768.000000  \n",
       "mean    31.992578                  0.471876   33.240885    0.348958  \n",
       "std      7.884160                  0.331329   11.760232    0.476951  \n",
       "min      0.000000                  0.078000   21.000000    0.000000  \n",
       "25%     27.300000                  0.243750   24.000000    0.000000  \n",
       "50%     32.000000                  0.372500   29.000000    0.000000  \n",
       "75%     36.600000                  0.626250   41.000000    1.000000  \n",
       "max     67.100000                  2.420000   81.000000    1.000000  "
      ]
     },
     "execution_count": 8,
     "metadata": {},
     "output_type": "execute_result"
    }
   ],
   "source": [
    "df.describe()"
   ]
  },
  {
   "cell_type": "code",
   "execution_count": 10,
   "metadata": {},
   "outputs": [
    {
     "data": {
      "text/plain": [
       "Outcome\n",
       "0    500\n",
       "1    268\n",
       "Name: count, dtype: int64"
      ]
     },
     "execution_count": 10,
     "metadata": {},
     "output_type": "execute_result"
    }
   ],
   "source": [
    "df['Outcome'].value_counts()"
   ]
  },
  {
   "cell_type": "code",
   "execution_count": 11,
   "metadata": {},
   "outputs": [
    {
     "data": {
      "text/html": [
       "<div>\n",
       "<style scoped>\n",
       "    .dataframe tbody tr th:only-of-type {\n",
       "        vertical-align: middle;\n",
       "    }\n",
       "\n",
       "    .dataframe tbody tr th {\n",
       "        vertical-align: top;\n",
       "    }\n",
       "\n",
       "    .dataframe thead th {\n",
       "        text-align: right;\n",
       "    }\n",
       "</style>\n",
       "<table border=\"1\" class=\"dataframe\">\n",
       "  <thead>\n",
       "    <tr style=\"text-align: right;\">\n",
       "      <th></th>\n",
       "      <th>Pregnancies</th>\n",
       "      <th>Glucose</th>\n",
       "      <th>BloodPressure</th>\n",
       "      <th>SkinThickness</th>\n",
       "      <th>Insulin</th>\n",
       "      <th>BMI</th>\n",
       "      <th>DiabetesPedigreeFunction</th>\n",
       "      <th>Age</th>\n",
       "    </tr>\n",
       "    <tr>\n",
       "      <th>Outcome</th>\n",
       "      <th></th>\n",
       "      <th></th>\n",
       "      <th></th>\n",
       "      <th></th>\n",
       "      <th></th>\n",
       "      <th></th>\n",
       "      <th></th>\n",
       "      <th></th>\n",
       "    </tr>\n",
       "  </thead>\n",
       "  <tbody>\n",
       "    <tr>\n",
       "      <th>0</th>\n",
       "      <td>3.298000</td>\n",
       "      <td>109.980000</td>\n",
       "      <td>68.184000</td>\n",
       "      <td>19.664000</td>\n",
       "      <td>68.792000</td>\n",
       "      <td>30.304200</td>\n",
       "      <td>0.429734</td>\n",
       "      <td>31.190000</td>\n",
       "    </tr>\n",
       "    <tr>\n",
       "      <th>1</th>\n",
       "      <td>4.865672</td>\n",
       "      <td>141.257463</td>\n",
       "      <td>70.824627</td>\n",
       "      <td>22.164179</td>\n",
       "      <td>100.335821</td>\n",
       "      <td>35.142537</td>\n",
       "      <td>0.550500</td>\n",
       "      <td>37.067164</td>\n",
       "    </tr>\n",
       "  </tbody>\n",
       "</table>\n",
       "</div>"
      ],
      "text/plain": [
       "         Pregnancies     Glucose  BloodPressure  SkinThickness     Insulin  \\\n",
       "Outcome                                                                      \n",
       "0           3.298000  109.980000      68.184000      19.664000   68.792000   \n",
       "1           4.865672  141.257463      70.824627      22.164179  100.335821   \n",
       "\n",
       "               BMI  DiabetesPedigreeFunction        Age  \n",
       "Outcome                                                  \n",
       "0        30.304200                  0.429734  31.190000  \n",
       "1        35.142537                  0.550500  37.067164  "
      ]
     },
     "execution_count": 11,
     "metadata": {},
     "output_type": "execute_result"
    }
   ],
   "source": [
    "df.groupby('Outcome').mean()"
   ]
  },
  {
   "cell_type": "markdown",
   "metadata": {},
   "source": [
    "### PREPROCESSING PIPELINE"
   ]
  },
  {
   "cell_type": "code",
   "execution_count": 16,
   "metadata": {},
   "outputs": [
    {
     "name": "stdout",
     "output_type": "stream",
     "text": [
      "     Pregnancies  Glucose  BloodPressure  SkinThickness  Insulin   BMI  \\\n",
      "0              6      148             72             35        0  33.6   \n",
      "1              1       85             66             29        0  26.6   \n",
      "2              8      183             64              0        0  23.3   \n",
      "3              1       89             66             23       94  28.1   \n",
      "4              0      137             40             35      168  43.1   \n",
      "..           ...      ...            ...            ...      ...   ...   \n",
      "763           10      101             76             48      180  32.9   \n",
      "764            2      122             70             27        0  36.8   \n",
      "765            5      121             72             23      112  26.2   \n",
      "766            1      126             60              0        0  30.1   \n",
      "767            1       93             70             31        0  30.4   \n",
      "\n",
      "     DiabetesPedigreeFunction  Age  \n",
      "0                       0.627   50  \n",
      "1                       0.351   31  \n",
      "2                       0.672   32  \n",
      "3                       0.167   21  \n",
      "4                       2.288   33  \n",
      "..                        ...  ...  \n",
      "763                     0.171   63  \n",
      "764                     0.340   27  \n",
      "765                     0.245   30  \n",
      "766                     0.349   47  \n",
      "767                     0.315   23  \n",
      "\n",
      "[768 rows x 8 columns]\n"
     ]
    }
   ],
   "source": [
    "X=df.drop('Outcome',axis=1)\n",
    "Y=df['Outcome']\n",
    "print(X)\n"
   ]
  },
  {
   "cell_type": "code",
   "execution_count": 17,
   "metadata": {},
   "outputs": [
    {
     "name": "stdout",
     "output_type": "stream",
     "text": [
      "0      1\n",
      "1      0\n",
      "2      1\n",
      "3      0\n",
      "4      1\n",
      "      ..\n",
      "763    0\n",
      "764    0\n",
      "765    0\n",
      "766    1\n",
      "767    0\n",
      "Name: Outcome, Length: 768, dtype: int64\n"
     ]
    }
   ],
   "source": [
    "print(Y)"
   ]
  },
  {
   "cell_type": "code",
   "execution_count": 20,
   "metadata": {},
   "outputs": [],
   "source": [
    "scaler=StandardScaler()\n",
    "scaler.fit(X)\n",
    "\n",
    "standardized_data=scaler.transform(X)"
   ]
  },
  {
   "cell_type": "code",
   "execution_count": 22,
   "metadata": {},
   "outputs": [
    {
     "name": "stdout",
     "output_type": "stream",
     "text": [
      "[[ 0.63994726  0.84832379  0.14964075 ...  0.20401277  0.46849198\n",
      "   1.4259954 ]\n",
      " [-0.84488505 -1.12339636 -0.16054575 ... -0.68442195 -0.36506078\n",
      "  -0.19067191]\n",
      " [ 1.23388019  1.94372388 -0.26394125 ... -1.10325546  0.60439732\n",
      "  -0.10558415]\n",
      " ...\n",
      " [ 0.3429808   0.00330087  0.14964075 ... -0.73518964 -0.68519336\n",
      "  -0.27575966]\n",
      " [-0.84488505  0.1597866  -0.47073225 ... -0.24020459 -0.37110101\n",
      "   1.17073215]\n",
      " [-0.84488505 -0.8730192   0.04624525 ... -0.20212881 -0.47378505\n",
      "  -0.87137393]]\n"
     ]
    }
   ],
   "source": [
    "print(standardized_data)"
   ]
  },
  {
   "cell_type": "code",
   "execution_count": 39,
   "metadata": {},
   "outputs": [],
   "source": [
    "X=standardized_data\n",
    "Y=df['Outcome']"
   ]
  },
  {
   "cell_type": "markdown",
   "metadata": {},
   "source": [
    "### Train Test Split "
   ]
  },
  {
   "cell_type": "code",
   "execution_count": 40,
   "metadata": {},
   "outputs": [],
   "source": [
    "X_train,X_test,Y_train,Y_test=train_test_split(X,Y,test_size=0.1,stratify=Y,random_state=2)"
   ]
  },
  {
   "cell_type": "code",
   "execution_count": 41,
   "metadata": {},
   "outputs": [
    {
     "data": {
      "text/plain": [
       "array([[ 0.3429808 ,  0.56664949, -0.26394125, ..., -0.43058346,\n",
       "        -0.18385366, -0.61611067],\n",
       "       [-0.54791859, -0.43485916,  0.25303625, ...,  0.20401277,\n",
       "        -0.20499449, -0.87137393],\n",
       "       [-0.25095213, -0.40356202, -0.36733675, ..., -0.76057349,\n",
       "        -0.75163597, -0.70119842],\n",
       "       ...,\n",
       "       [ 2.12477957, -1.12339636,  0.25303625, ..., -0.24020459,\n",
       "        -0.51908683,  0.14967911],\n",
       "       [ 0.04601433, -0.27837344,  0.45982725, ...,  0.94014439,\n",
       "        -0.71237443,  0.40494237],\n",
       "       [-1.14185152, -1.09209922, -0.05715025, ...,  0.48323511,\n",
       "        -0.70633419, -0.70119842]])"
      ]
     },
     "execution_count": 41,
     "metadata": {},
     "output_type": "execute_result"
    }
   ],
   "source": [
    "X_train"
   ]
  },
  {
   "cell_type": "code",
   "execution_count": 42,
   "metadata": {},
   "outputs": [
    {
     "data": {
      "text/plain": [
       "71     0\n",
       "122    0\n",
       "752    0\n",
       "19     1\n",
       "225    0\n",
       "      ..\n",
       "369    1\n",
       "25     1\n",
       "559    0\n",
       "725    0\n",
       "253    0\n",
       "Name: Outcome, Length: 691, dtype: int64"
      ]
     },
     "execution_count": 42,
     "metadata": {},
     "output_type": "execute_result"
    }
   ],
   "source": [
    "Y_train"
   ]
  },
  {
   "cell_type": "code",
   "execution_count": 43,
   "metadata": {},
   "outputs": [
    {
     "data": {
      "text/plain": [
       "array([[ 3.42980797e-01,  8.17026649e-01,  4.59827252e-01,\n",
       "        -1.28821221e+00, -6.92890572e-01,  2.16704696e-01,\n",
       "        -7.66736562e-01,  2.70231170e+00],\n",
       "       [-8.44885053e-01, -8.10424908e-01,  6.66618252e-01,\n",
       "         2.79989314e-01,  8.70030694e-01,  3.81699715e-01,\n",
       "        -7.21434781e-01,  8.30381132e-01],\n",
       "       [-2.50952128e-01, -3.09670582e-01, -3.67336746e-01,\n",
       "        -1.28821221e+00, -6.92890572e-01, -1.19209893e+00,\n",
       "        -9.96265581e-01, -1.04154944e+00],\n",
       "       [ 6.39947260e-01, -3.72264873e-01, -4.70732246e-01,\n",
       "         4.05445437e-01, -6.92890572e-01, -8.87492739e-01,\n",
       "        -8.02977986e-01, -5.31022918e-01],\n",
       "       [-2.50952128e-01, -1.84482001e-01, -1.60545747e-01,\n",
       "         1.15818217e+00,  5.22714857e-01,  7.75149375e-01,\n",
       "        -9.72104632e-01, -4.45935165e-01],\n",
       "       [-8.44885053e-01, -9.66910634e-01, -3.67336746e-01,\n",
       "        -1.59107113e-01, -1.80599713e-01, -8.74800814e-01,\n",
       "         2.40438805e+00, -7.01198424e-01],\n",
       "       [-8.44885053e-01,  7.85729504e-01, -6.77523246e-01,\n",
       "        -1.28821221e+00, -6.92890572e-01, -2.90972286e-01,\n",
       "         2.78224501e-01, -3.60847411e-01],\n",
       "       [ 1.23388019e+00, -2.79962745e-02,  4.59827252e-01,\n",
       "        -1.28821221e+00, -6.92890572e-01, -8.87492739e-01,\n",
       "        -1.89893894e-01,  2.61722395e+00],\n",
       "       [-1.14185152e+00,  5.04055196e-01,  7.70013751e-01,\n",
       "         4.05445437e-01, -6.92890572e-01, -5.95578474e-01,\n",
       "        -7.27475019e-01,  2.19178518e+00],\n",
       "       [ 4.60143347e-02,  2.53678033e-01, -4.70732246e-01,\n",
       "        -5.35475480e-01,  1.31285839e+00, -5.70194625e-01,\n",
       "         1.66480110e-01, -1.90671905e-01],\n",
       "       [-8.44885053e-01, -1.02950492e+00,  4.59827252e-01,\n",
       "         5.30901559e-01, -3.29904822e-02,  9.41978774e-04,\n",
       "        -3.22779116e-01, -3.60847411e-01],\n",
       "       [ 2.12477957e+00, -5.60047745e-01, -5.71502470e-02,\n",
       "         1.22091023e+00, -6.92890572e-01,  1.80319526e+00,\n",
       "        -1.04458748e+00,  7.45293379e-01],\n",
       "       [-5.47918591e-01, -4.03562018e-01, -3.67336746e-01,\n",
       "         7.19085742e-01, -2.06648401e-01, -8.62108890e-01,\n",
       "        -1.03854724e+00, -1.04154944e+00],\n",
       "       [ 3.42980797e-01,  2.06891246e+00,  3.56431752e-01,\n",
       "         4.05445437e-01,  1.10446888e+00,  1.47320522e+00,\n",
       "         1.69768028e+00,  1.68125866e+00],\n",
       "       [-5.47918591e-01,  7.85729504e-01,  4.62452528e-02,\n",
       "         1.09545411e+00,  2.43295196e+00, -5.06735003e-01,\n",
       "        -4.07342439e-01, -3.60847411e-01],\n",
       "       [ 6.39947260e-01, -1.06080207e+00,  5.63222752e-01,\n",
       "        -1.28821221e+00, -6.92890572e-01, -1.11594738e+00,\n",
       "        -1.17143246e+00, -1.05584152e-01],\n",
       "       [-2.50952128e-01,  3.30087080e-03, -8.84314245e-01,\n",
       "        -1.28821221e+00, -6.92890572e-01,  5.08618960e-01,\n",
       "        -1.04156736e+00, -7.01198424e-01],\n",
       "       [ 9.36913723e-01,  9.71923068e-02,  4.62452528e-02,\n",
       "         7.81813803e-01,  1.17393205e+00, -8.24033116e-01,\n",
       "        -9.38883326e-01,  3.19854614e-01],\n",
       "       [ 4.60143347e-02,  4.72758051e-01,  4.62452528e-02,\n",
       "        -1.28821221e+00, -6.92890572e-01, -1.00593418e-01,\n",
       "         2.14465784e+00, -9.56461683e-01],\n",
       "       [-2.50952128e-01,  3.45980161e-02,  4.59827252e-01,\n",
       "        -1.28821221e+00, -6.92890572e-01, -1.14133123e+00,\n",
       "        -6.58012289e-01,  5.75117873e-01],\n",
       "       [-2.50952128e-01,  1.50556385e+00,  2.53036252e-01,\n",
       "        -9.63790522e-02,  3.92471418e-01, -2.65588436e-01,\n",
       "        -6.15730628e-01, -1.90671905e-01],\n",
       "       [-2.50952128e-01, -2.47076292e-01, -1.29789624e+00,\n",
       "        -4.72747419e-01, -6.92890572e-01, -1.21748278e+00,\n",
       "        -1.00230582e+00, -9.56461683e-01],\n",
       "       [ 3.42980797e-01, -7.47830617e-01,  3.56431752e-01,\n",
       "         4.05445437e-01, -6.92890572e-01,  4.57851262e-01,\n",
       "        -2.83517573e-01,  1.59617091e+00],\n",
       "       [-8.44885053e-01,  5.66649487e-01, -1.19450074e+00,\n",
       "        -9.63790522e-02,  2.77897893e-02, -4.17891531e-01,\n",
       "         5.50035182e-01, -9.56461683e-01],\n",
       "       [ 3.42980797e-01,  2.13150675e+00, -2.63941247e-01,\n",
       "         7.81813803e-01,  2.12905060e+00, -1.00593418e-01,\n",
       "         3.35606756e-01, -3.60847411e-01],\n",
       "       [ 3.42980797e-01, -1.53184856e-01,  2.53036252e-01,\n",
       "         5.30901559e-01, -6.92890572e-01,  3.90177524e-02,\n",
       "         5.68155894e-01,  1.49679107e-01],\n",
       "       [ 6.39947260e-01,  4.10163760e-01,  4.62452528e-02,\n",
       "         1.54533192e-01,  4.35885898e-01,  4.32467413e-01,\n",
       "         2.11781890e-01, -3.60847411e-01],\n",
       "       [-8.44885053e-01,  1.28489452e-01, -9.87709745e-01,\n",
       "         1.22091023e+00,  7.57153047e-01,  1.65936998e-01,\n",
       "         1.48023173e+00, -4.45935165e-01],\n",
       "       [ 9.36913723e-01,  1.25518668e+00,  8.73409251e-01,\n",
       "        -1.28821221e+00, -6.92890572e-01, -2.02128814e-01,\n",
       "        -9.26802852e-01,  1.17073215e+00],\n",
       "       [-5.47918591e-01,  3.30087080e-03,  4.62452528e-02,\n",
       "         7.19085742e-01,  1.31984540e-01,  9.02068621e-01,\n",
       "         1.25070271e+00, -8.71373930e-01],\n",
       "       [ 9.36913723e-01,  5.04055196e-01,  1.08020025e+00,\n",
       "         1.28363829e+00, -6.92890572e-01,  9.41978774e-04,\n",
       "        -2.44256030e-01,  4.90030120e-01],\n",
       "       [ 1.53084665e+00,  1.09870096e+00,  8.73409251e-01,\n",
       "         4.68173498e-01,  6.52958296e-01,  2.92856243e-01,\n",
       "         2.16579867e+00,  7.45293379e-01],\n",
       "       [ 1.23388019e+00, -8.10424908e-01,  1.49640753e-01,\n",
       "        -1.28821221e+00, -6.92890572e-01,  6.10154356e-01,\n",
       "         3.96351252e-02,  2.02160968e+00],\n",
       "       [-8.44885053e-01,  6.91838068e-01,  2.53036252e-01,\n",
       "         9.18051311e-02, -1.63233921e-01, -7.35189644e-01,\n",
       "        -6.51972052e-01, -1.04154944e+00],\n",
       "       [ 4.60143347e-02, -6.85236326e-01,  3.56431752e-01,\n",
       "        -3.47291297e-01, -2.50062880e-01, -1.11594738e+00,\n",
       "        -7.51635968e-01, -1.04154944e+00],\n",
       "       [-5.47918591e-01, -2.78373437e-01,  8.73409251e-01,\n",
       "         1.34636635e+00,  6.96372775e-01,  8.13225149e-01,\n",
       "        -6.82173239e-01, -4.45935165e-01],\n",
       "       [-8.44885053e-01, -2.79962745e-02,  5.63222752e-01,\n",
       "         1.72273472e+00,  1.04368861e+00,  8.76684772e-01,\n",
       "         2.08425547e+00,  6.60205626e-01],\n",
       "       [ 2.71871250e+00, -4.66156309e-01,  1.49640753e-01,\n",
       "         2.09910309e+00, -6.92890572e-01,  5.84770507e-01,\n",
       "        -8.87541309e-01,  1.00055664e+00],\n",
       "       [-1.14185152e+00,  1.28648383e+00,  3.56431752e-01,\n",
       "         9.69997986e-01, -6.92890572e-01,  2.23472070e+00,\n",
       "        -3.25799235e-01, -6.16110671e-01],\n",
       "       [-8.44885053e-01, -8.10424908e-01, -1.60545747e-01,\n",
       "        -4.72747419e-01, -3.62940527e-01, -1.57285666e+00,\n",
       "        -4.16402795e-01, -7.01198424e-01],\n",
       "       [-5.47918591e-01, -3.40967728e-01,  2.53036252e-01,\n",
       "         5.30901559e-01,  3.92471418e-01,  5.17096769e-02,\n",
       "         6.82920403e-01, -5.31022918e-01],\n",
       "       [-1.14185152e+00,  7.85729504e-01,  6.66618252e-01,\n",
       "        -1.28821221e+00, -6.92890572e-01,  1.07975556e+00,\n",
       "         3.95370893e+00,  9.15468886e-01],\n",
       "       [ 2.42174604e+00, -9.04316344e-01, -3.67336746e-01,\n",
       "        -8.49115785e-01,  1.54729658e+00, -5.57502701e-01,\n",
       "         1.37150746e+00,  9.15468886e-01],\n",
       "       [ 6.39947260e-01,  1.03610667e+00,  4.59827252e-01,\n",
       "         1.28363829e+00,  5.22714857e-01,  1.79050334e+00,\n",
       "         2.99365331e-01, -5.31022918e-01],\n",
       "       [-5.47918591e-01, -1.15469351e+00, -3.57259724e+00,\n",
       "        -1.28821221e+00, -6.92890572e-01, -4.06047387e+00,\n",
       "        -5.07006355e-01, -1.04154944e+00],\n",
       "       [ 1.53084665e+00,  1.38037527e+00,  9.76804751e-01,\n",
       "        -1.28821221e+00, -6.92890572e-01, -2.02128814e-01,\n",
       "        -5.13046593e-01,  1.34090765e+00],\n",
       "       [ 4.60143347e-02,  3.47569469e-01,  8.73409251e-01,\n",
       "         6.56357681e-01, -6.92890572e-01, -5.06735003e-01,\n",
       "        -1.59692708e-01,  2.53213620e+00],\n",
       "       [-1.14185152e+00, -8.10424908e-01,  8.21711501e-01,\n",
       "         2.79989314e-01, -3.80306319e-01,  6.86305904e-01,\n",
       "        -6.79153120e-01, -7.86286177e-01],\n",
       "       [-8.44885053e-01, -4.66156309e-01,  3.56431752e-01,\n",
       "        -1.28821221e+00, -6.92890572e-01,  6.98997828e-01,\n",
       "        -8.30159054e-01, -6.16110671e-01],\n",
       "       [ 4.60143347e-02, -1.40507067e+00, -3.67336746e-01,\n",
       "        -1.28821221e+00, -6.92890572e-01,  2.54780469e-01,\n",
       "        -2.44256030e-01, -7.01198424e-01],\n",
       "       [-8.44885053e-01, -9.05905652e-02, -5.74127746e-01,\n",
       "         9.69997986e-01,  1.23301644e-01,  1.65936998e-01,\n",
       "        -6.36871459e-01, -8.71373930e-01],\n",
       "       [-5.47918591e-01,  6.60540923e-01,  6.66618252e-01,\n",
       "        -1.59107113e-01, -1.37185233e-01, -9.25568512e-01,\n",
       "         8.73187880e-01, -1.04154944e+00],\n",
       "       [ 4.60143347e-02, -1.84482001e-01,  1.49640753e-01,\n",
       "        -1.28821221e+00, -6.92890572e-01, -3.92507682e-01,\n",
       "        -2.89557811e-01,  1.08564439e+00],\n",
       "       [-8.44885053e-01, -2.47076292e-01, -2.63941247e-01,\n",
       "         9.07269925e-01, -6.92890572e-01,  2.04012771e-01,\n",
       "         2.14802008e-01, -1.04154944e+00],\n",
       "       [-2.50952128e-01,  2.84975179e-01, -2.63941247e-01,\n",
       "        -1.28821221e+00, -6.92890572e-01, -1.12863930e+00,\n",
       "        -4.76805169e-01, -9.56461683e-01],\n",
       "       [-1.14185152e+00,  4.10163760e-01, -5.74127746e-01,\n",
       "        -3.36509911e-02,  1.83383214e+00, -7.09805795e-01,\n",
       "        -3.62040659e-01, -1.04154944e+00],\n",
       "       [-8.44885053e-01,  2.84975179e-01, -4.70732246e-01,\n",
       "         1.54533192e-01,  7.83201735e-01, -4.30583455e-01,\n",
       "         6.64799691e-01, -1.04154944e+00],\n",
       "       [-1.14185152e+00,  4.41460905e-01,  1.28699125e+00,\n",
       "         1.59727860e+00,  5.66129337e-01,  1.09244749e+00,\n",
       "        -5.67408729e-01, -6.16110671e-01],\n",
       "       [ 1.23388019e+00, -1.46766496e+00,  4.62452528e-02,\n",
       "         1.22091023e+00, -2.67428672e-01,  4.19775488e-01,\n",
       "         7.04061234e-01,  4.90030120e-01],\n",
       "       [ 4.60143347e-02, -8.10424908e-01,  4.62452528e-02,\n",
       "         7.19085742e-01, -6.92890572e-01,  1.36339033e-02,\n",
       "         4.23190197e-01, -7.86286177e-01],\n",
       "       [-2.50952128e-01,  2.22380888e-01,  4.59827252e-01,\n",
       "        -1.28821221e+00, -6.92890572e-01, -1.38247780e+00,\n",
       "        -6.15730628e-01,  1.85143417e+00],\n",
       "       [-1.14185152e+00, -4.34859164e-01, -4.70732246e-01,\n",
       "         2.79989314e-01, -6.92890572e-01, -7.09805795e-01,\n",
       "        -1.02344665e+00, -8.71373930e-01],\n",
       "       [ 1.82781311e+00,  3.45980161e-02,  4.59827252e-01,\n",
       "         6.56357681e-01, -6.92890572e-01, -5.57502701e-01,\n",
       "         1.21178329e-01,  1.00055664e+00],\n",
       "       [ 1.53084665e+00, -2.78373437e-01,  6.66618252e-01,\n",
       "         7.19085742e-01,  8.26616214e-01,  2.80164319e-01,\n",
       "        -6.39891577e-01,  2.34766861e-01],\n",
       "       [-1.14185152e+00, -5.91344890e-01, -2.63941247e-01,\n",
       "         1.59727860e+00, -1.56246903e-02,  1.09244749e+00,\n",
       "         7.28564306e-02, -1.04154944e+00],\n",
       "       [-2.50952128e-01, -1.15469351e+00,  1.49640753e-01,\n",
       "         7.19085742e-01, -6.92890572e-01,  6.60922055e-01,\n",
       "        -6.18750746e-01, -4.45935165e-01],\n",
       "       [ 1.53084665e+00,  9.73512376e-01,  4.59827252e-01,\n",
       "         8.44541864e-01,  7.91884630e-01,  2.80164319e-01,\n",
       "         1.27184355e+00, -2.04963989e-02],\n",
       "       [-8.44885053e-01, -4.97453454e-01, -5.74127746e-01,\n",
       "        -1.28821221e+00, -6.92890572e-01, -9.76336210e-01,\n",
       "        -8.60360241e-01, -1.04154944e+00],\n",
       "       [-1.14185152e+00,  1.28648383e+00,  3.56431752e-01,\n",
       "         2.22455921e+00,  1.75399020e-01,  2.69162998e+00,\n",
       "         8.67147643e-01, -7.01198424e-01],\n",
       "       [ 1.23388019e+00,  1.28489452e-01,  1.39038675e+00,\n",
       "        -1.28821221e+00, -6.92890572e-01, -4.06047387e+00,\n",
       "        -7.24454900e-01,  1.76634642e+00],\n",
       "       [ 4.60143347e-02,  7.85729504e-01,  4.59827252e-01,\n",
       "        -1.28821221e+00, -6.92890572e-01,  8.25917074e-01,\n",
       "         1.45339279e-01,  2.87248721e+00],\n",
       "       [ 1.53084665e+00, -2.78373437e-01,  6.66618252e-01,\n",
       "         2.17261253e-01, -6.92890572e-01, -4.81351154e-01,\n",
       "         2.44666971e+00,  1.42599540e+00],\n",
       "       [ 2.71871250e+00,  2.53678033e-01, -3.57259724e+00,\n",
       "         5.93629620e-01, -6.92890572e-01,  1.00360402e+00,\n",
       "         2.93325094e-01,  9.15468886e-01],\n",
       "       [-2.50952128e-01,  1.63075243e+00,  7.70013751e-01,\n",
       "         7.81813803e-01,  3.42280210e+00,  4.70543187e-01,\n",
       "        -6.45931815e-01, -9.56461683e-01],\n",
       "       [-8.44885053e-01, -1.15469351e+00, -2.63941247e-01,\n",
       "         1.54533192e-01,  3.05642459e-01,  6.22846281e-01,\n",
       "        -2.64653629e-03, -4.45935165e-01],\n",
       "       [-5.47918591e-01, -1.02950492e+00,  2.53036252e-01,\n",
       "        -9.63790522e-02, -2.32697088e-01, -3.79815757e-01,\n",
       "        -7.33515256e-01, -9.56461683e-01],\n",
       "       [-2.50952128e-01, -1.87452785e+00,  6.66618252e-01,\n",
       "         4.68173498e-01, -6.92890572e-01,  3.05548168e-01,\n",
       "        -6.91233595e-01,  1.08564439e+00]])"
      ]
     },
     "execution_count": 43,
     "metadata": {},
     "output_type": "execute_result"
    }
   ],
   "source": [
    "X_test"
   ]
  },
  {
   "cell_type": "code",
   "execution_count": 44,
   "metadata": {},
   "outputs": [
    {
     "data": {
      "text/plain": [
       "148    0\n",
       "429    1\n",
       "190    0\n",
       "581    0\n",
       "318    0\n",
       "      ..\n",
       "357    1\n",
       "415    1\n",
       "554    0\n",
       "158    0\n",
       "352    0\n",
       "Name: Outcome, Length: 77, dtype: int64"
      ]
     },
     "execution_count": 44,
     "metadata": {},
     "output_type": "execute_result"
    }
   ],
   "source": [
    "Y_test"
   ]
  },
  {
   "cell_type": "markdown",
   "metadata": {},
   "source": [
    "### Model Building"
   ]
  },
  {
   "cell_type": "code",
   "execution_count": 45,
   "metadata": {},
   "outputs": [],
   "source": [
    "classifier=svm.SVC(kernel='linear')\n"
   ]
  },
  {
   "cell_type": "code",
   "execution_count": 47,
   "metadata": {},
   "outputs": [
    {
     "data": {
      "text/html": [
       "<style>#sk-container-id-2 {color: black;}#sk-container-id-2 pre{padding: 0;}#sk-container-id-2 div.sk-toggleable {background-color: white;}#sk-container-id-2 label.sk-toggleable__label {cursor: pointer;display: block;width: 100%;margin-bottom: 0;padding: 0.3em;box-sizing: border-box;text-align: center;}#sk-container-id-2 label.sk-toggleable__label-arrow:before {content: \"▸\";float: left;margin-right: 0.25em;color: #696969;}#sk-container-id-2 label.sk-toggleable__label-arrow:hover:before {color: black;}#sk-container-id-2 div.sk-estimator:hover label.sk-toggleable__label-arrow:before {color: black;}#sk-container-id-2 div.sk-toggleable__content {max-height: 0;max-width: 0;overflow: hidden;text-align: left;background-color: #f0f8ff;}#sk-container-id-2 div.sk-toggleable__content pre {margin: 0.2em;color: black;border-radius: 0.25em;background-color: #f0f8ff;}#sk-container-id-2 input.sk-toggleable__control:checked~div.sk-toggleable__content {max-height: 200px;max-width: 100%;overflow: auto;}#sk-container-id-2 input.sk-toggleable__control:checked~label.sk-toggleable__label-arrow:before {content: \"▾\";}#sk-container-id-2 div.sk-estimator input.sk-toggleable__control:checked~label.sk-toggleable__label {background-color: #d4ebff;}#sk-container-id-2 div.sk-label input.sk-toggleable__control:checked~label.sk-toggleable__label {background-color: #d4ebff;}#sk-container-id-2 input.sk-hidden--visually {border: 0;clip: rect(1px 1px 1px 1px);clip: rect(1px, 1px, 1px, 1px);height: 1px;margin: -1px;overflow: hidden;padding: 0;position: absolute;width: 1px;}#sk-container-id-2 div.sk-estimator {font-family: monospace;background-color: #f0f8ff;border: 1px dotted black;border-radius: 0.25em;box-sizing: border-box;margin-bottom: 0.5em;}#sk-container-id-2 div.sk-estimator:hover {background-color: #d4ebff;}#sk-container-id-2 div.sk-parallel-item::after {content: \"\";width: 100%;border-bottom: 1px solid gray;flex-grow: 1;}#sk-container-id-2 div.sk-label:hover label.sk-toggleable__label {background-color: #d4ebff;}#sk-container-id-2 div.sk-serial::before {content: \"\";position: absolute;border-left: 1px solid gray;box-sizing: border-box;top: 0;bottom: 0;left: 50%;z-index: 0;}#sk-container-id-2 div.sk-serial {display: flex;flex-direction: column;align-items: center;background-color: white;padding-right: 0.2em;padding-left: 0.2em;position: relative;}#sk-container-id-2 div.sk-item {position: relative;z-index: 1;}#sk-container-id-2 div.sk-parallel {display: flex;align-items: stretch;justify-content: center;background-color: white;position: relative;}#sk-container-id-2 div.sk-item::before, #sk-container-id-2 div.sk-parallel-item::before {content: \"\";position: absolute;border-left: 1px solid gray;box-sizing: border-box;top: 0;bottom: 0;left: 50%;z-index: -1;}#sk-container-id-2 div.sk-parallel-item {display: flex;flex-direction: column;z-index: 1;position: relative;background-color: white;}#sk-container-id-2 div.sk-parallel-item:first-child::after {align-self: flex-end;width: 50%;}#sk-container-id-2 div.sk-parallel-item:last-child::after {align-self: flex-start;width: 50%;}#sk-container-id-2 div.sk-parallel-item:only-child::after {width: 0;}#sk-container-id-2 div.sk-dashed-wrapped {border: 1px dashed gray;margin: 0 0.4em 0.5em 0.4em;box-sizing: border-box;padding-bottom: 0.4em;background-color: white;}#sk-container-id-2 div.sk-label label {font-family: monospace;font-weight: bold;display: inline-block;line-height: 1.2em;}#sk-container-id-2 div.sk-label-container {text-align: center;}#sk-container-id-2 div.sk-container {/* jupyter's `normalize.less` sets `[hidden] { display: none; }` but bootstrap.min.css set `[hidden] { display: none !important; }` so we also need the `!important` here to be able to override the default hidden behavior on the sphinx rendered scikit-learn.org. See: https://github.com/scikit-learn/scikit-learn/issues/21755 */display: inline-block !important;position: relative;}#sk-container-id-2 div.sk-text-repr-fallback {display: none;}</style><div id=\"sk-container-id-2\" class=\"sk-top-container\"><div class=\"sk-text-repr-fallback\"><pre>SVC(kernel=&#x27;linear&#x27;)</pre><b>In a Jupyter environment, please rerun this cell to show the HTML representation or trust the notebook. <br />On GitHub, the HTML representation is unable to render, please try loading this page with nbviewer.org.</b></div><div class=\"sk-container\" hidden><div class=\"sk-item\"><div class=\"sk-estimator sk-toggleable\"><input class=\"sk-toggleable__control sk-hidden--visually\" id=\"sk-estimator-id-2\" type=\"checkbox\" checked><label for=\"sk-estimator-id-2\" class=\"sk-toggleable__label sk-toggleable__label-arrow\">SVC</label><div class=\"sk-toggleable__content\"><pre>SVC(kernel=&#x27;linear&#x27;)</pre></div></div></div></div></div>"
      ],
      "text/plain": [
       "SVC(kernel='linear')"
      ]
     },
     "execution_count": 47,
     "metadata": {},
     "output_type": "execute_result"
    }
   ],
   "source": [
    "classifier.fit(X_train,Y_train)"
   ]
  },
  {
   "cell_type": "code",
   "execution_count": 49,
   "metadata": {},
   "outputs": [
    {
     "name": "stdout",
     "output_type": "stream",
     "text": [
      "[0 0 0 0 0 0 0 0 0 0 1 1 1 0 0 0 0 1 0 0 1 0 0 0 0 0 0 1 0 0 0 0 0 0 0 1 1\n",
      " 1 0 0 1 0 1 1 0 0 0 1 1 0 1 0 0 0 1 0 1 0 1 0 0 0 0 0 0 0 0 0 1 0 0 0 0 0\n",
      " 0 0 0 0 0 0 0 1 0 0 0 0 1 0 0 1 0 1 0 1 1 0 0 0 0 0 0 1 0 1 0 1 1 0 0 0 0\n",
      " 0 0 0 0 1 1 1 0 0 0 1 0 0 0 0 0 0 0 0 1 0 0 0 1 1 0 0 1 1 0 0 1 0 0 0 0 0\n",
      " 0 0 0 0 0 1 0 0 0 1 0 0 0 0 0 0 0 0 1 0 0 1 0 1 0 1 0 0 0 0 1 0 0 0 1 1 1\n",
      " 0 0 0 1 1 0 0 0 0 0 0 1 0 0 0 0 0 0 0 0 0 1 0 0 1 0 0 0 1 1 0 0 1 0 0 0 0\n",
      " 0 0 0 1 0 0 1 1 0 0 1 0 1 0 0 0 1 0 0 0 1 1 0 1 0 0 0 0 1 0 1 0 0 0 0 0 1\n",
      " 0 0 0 0 0 0 0 0 0 1 1 0 0 0 1 0 0 0 1 0 0 0 0 0 0 0 0 0 0 0 0 0 0 0 0 0 0\n",
      " 0 0 1 0 1 1 0 0 0 0 1 1 0 1 0 0 0 1 0 0 1 0 0 1 1 0 0 0 1 1 0 0 1 1 0 0 0\n",
      " 0 0 0 0 0 0 0 0 1 0 0 1 1 0 0 1 0 0 0 0 0 1 0 0 0 1 1 0 0 1 0 0 1 0 0 0 0\n",
      " 1 1 0 1 0 0 1 1 0 0 1 0 0 0 0 0 0 0 0 1 0 0 0 0 1 1 0 1 0 0 1 0 1 1 1 0 0\n",
      " 1 0 0 0 1 0 0 0 1 0 0 0 1 0 1 0 0 0 1 1 0 0 0 0 0 0 0 0 1 0 1 0 0 0 1 0 0\n",
      " 0 0 1 1 0 0 0 0 1 0 0 0 0 0 1 0 0 0 0 0 0 0 0 1 0 1 0 0 1 0 0 0 0 0 0 1 1\n",
      " 1 1 0 0 0 0 0 1 0 0 0 1 0 0 0 0 1 0 1 1 0 0 1 0 0 1 0 1 0 0 0 0 0 0 1 0 0\n",
      " 0 0 1 0 0 0 0 0 0 0 1 0 0 0 0 0 0 1 1 0 1 0 0 0 1 1 0 0 0 0 0 1 1 1 1 0 0\n",
      " 0 0 0 0 1 0 0 0 0 0 0 0 1 1 1 0 1 1 0 1 0 0 0 0 1 1 0 0 0 0 0 0 0 1 1 0 0\n",
      " 1 0 0 0 0 0 0 1 0 1 1 0 0 1 0 1 0 1 1 1 0 0 1 0 1 1 1 1 0 0 0 1 1 1 0 1 0\n",
      " 0 0 0 0 1 0 0 0 0 0 0 0 0 0 0 0 0 1 0 0 1 0 0 1 0 1 1 0 0 0 0 0 1 1 1 0 0\n",
      " 0 0 0 0 0 0 1 0 0 0 0 0 0 0 1 0 0 0 1 0 0 0 0 0 0]\n"
     ]
    }
   ],
   "source": [
    "predicted_test=classifier.predict(X_train)\n",
    "calculated_accuracy=accuracy_score(predicted_test,Y_train)\n",
    "print(predicted_test)"
   ]
  },
  {
   "cell_type": "code",
   "execution_count": 50,
   "metadata": {},
   "outputs": [
    {
     "data": {
      "text/plain": [
       "0.784370477568741"
      ]
     },
     "execution_count": 50,
     "metadata": {},
     "output_type": "execute_result"
    }
   ],
   "source": [
    "calculated_accuracy"
   ]
  },
  {
   "cell_type": "code",
   "execution_count": 51,
   "metadata": {},
   "outputs": [],
   "source": [
    "X_test_prediction=classifier.predict(X_test)\n",
    "accuracy_test=accuracy_score(X_test_prediction,Y_test)"
   ]
  },
  {
   "cell_type": "code",
   "execution_count": 52,
   "metadata": {},
   "outputs": [
    {
     "data": {
      "text/plain": [
       "0.7792207792207793"
      ]
     },
     "execution_count": 52,
     "metadata": {},
     "output_type": "execute_result"
    }
   ],
   "source": [
    "accuracy_test"
   ]
  },
  {
   "cell_type": "code",
   "execution_count": 72,
   "metadata": {},
   "outputs": [],
   "source": [
    "input_data=(6,148,72,35,0,33.6,0.627,50)\n",
    "input_data_feed=np.asarray(input_data)\n",
    "reshaped=input_data_feed.reshape(1,-1)\n",
    "std_data=scaler.transform(reshaped)"
   ]
  },
  {
   "cell_type": "code",
   "execution_count": 73,
   "metadata": {},
   "outputs": [
    {
     "name": "stdout",
     "output_type": "stream",
     "text": [
      "The patient is non diabetic\n"
     ]
    }
   ],
   "source": [
    "prediction=classifier.predict(std_data)\n",
    "if(prediction[0]==0):\n",
    "    print(\"The patient is non diabetic\")\n",
    "else:\n",
    "    print(\"The patient is diabetic\")"
   ]
  },
  {
   "cell_type": "code",
   "execution_count": null,
   "metadata": {},
   "outputs": [],
   "source": []
  }
 ],
 "metadata": {
  "kernelspec": {
   "display_name": "Python 3",
   "language": "python",
   "name": "python3"
  },
  "language_info": {
   "codemirror_mode": {
    "name": "ipython",
    "version": 3
   },
   "file_extension": ".py",
   "mimetype": "text/x-python",
   "name": "python",
   "nbconvert_exporter": "python",
   "pygments_lexer": "ipython3",
   "version": "3.11.4"
  }
 },
 "nbformat": 4,
 "nbformat_minor": 2
}
